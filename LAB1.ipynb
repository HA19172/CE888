{
  "nbformat": 4,
  "nbformat_minor": 0,
  "metadata": {
    "colab": {
      "name": "LAB1.ipynb",
      "provenance": [],
      "collapsed_sections": [],
      "authorship_tag": "ABX9TyMZ3MEGAeCGbeXYStmNJ3PJ",
      "include_colab_link": true
    },
    "kernelspec": {
      "name": "python3",
      "display_name": "Python 3"
    }
  },
  "cells": [
    {
      "cell_type": "markdown",
      "metadata": {
        "id": "view-in-github",
        "colab_type": "text"
      },
      "source": [
        "<a href=\"https://colab.research.google.com/github/HA19172/CE888/blob/master/LAB1.ipynb\" target=\"_parent\"><img src=\"https://colab.research.google.com/assets/colab-badge.svg\" alt=\"Open In Colab\"/></a>"
      ]
    },
    {
      "cell_type": "markdown",
      "metadata": {
        "id": "yZUeMDkl6ryt",
        "colab_type": "text"
      },
      "source": [
        "##ANSWERS"
      ]
    },
    {
      "cell_type": "code",
      "metadata": {
        "id": "oZDoSXtXVJ3U",
        "colab_type": "code",
        "colab": {}
      },
      "source": [
        "#commit1"
      ],
      "execution_count": 0,
      "outputs": []
    },
    {
      "cell_type": "markdown",
      "metadata": {
        "id": "If51Mj-W_Uur",
        "colab_type": "text"
      },
      "source": [
        "#1)"
      ]
    },
    {
      "cell_type": "code",
      "metadata": {
        "id": "5KhhPQEx8bfK",
        "colab_type": "code",
        "outputId": "bf542d85-bd65-4e4d-adca-cba947c7ee2d",
        "colab": {
          "base_uri": "https://localhost:8080/",
          "height": 153
        }
      },
      "source": [
        "import numpy.random\n",
        "n==np.random.randint(100, size=(4,2))\n",
        "print(n)\n",
        "print(n.size)\n",
        "print(n.shape)\n",
        "print(n.ndim) "
      ],
      "execution_count": 0,
      "outputs": [
        {
          "output_type": "stream",
          "text": [
            "[[[6 1 2 7]]\n",
            "\n",
            " [[6 7 8 2]]]\n",
            "8\n",
            "(2, 1, 4)\n",
            "3\n"
          ],
          "name": "stdout"
        },
        {
          "output_type": "stream",
          "text": [
            "/usr/local/lib/python3.6/dist-packages/ipykernel_launcher.py:2: DeprecationWarning: elementwise comparison failed; this will raise an error in the future.\n",
            "  \n"
          ],
          "name": "stderr"
        }
      ]
    },
    {
      "cell_type": "markdown",
      "metadata": {
        "id": "3uHvW1s9_anx",
        "colab_type": "text"
      },
      "source": [
        "#2)"
      ]
    },
    {
      "cell_type": "code",
      "metadata": {
        "id": "GJQYOT1R9UrY",
        "colab_type": "code",
        "outputId": "01e122be-24ff-40a6-deab-d8c84fa185e4",
        "colab": {
          "base_uri": "https://localhost:8080/",
          "height": 68
        }
      },
      "source": [
        "m=np.random.randint(1,100,10)\n",
        "print(m)\n",
        "sorted=np.sort(m)\n",
        "print(\"sorted:\",sorted)\n",
        "reversed=np.sort(m)[::-1]\n",
        "print(\"reversed:\",reversed)\n"
      ],
      "execution_count": 0,
      "outputs": [
        {
          "output_type": "stream",
          "text": [
            "[63 25 88 52  4 78 84 28 27 96]\n",
            "sorted: [ 4 25 27 28 52 63 78 84 88 96]\n",
            "reversed: [96 88 84 78 63 52 28 27 25  4]\n"
          ],
          "name": "stdout"
        }
      ]
    },
    {
      "cell_type": "markdown",
      "metadata": {
        "id": "BfUz7lNJ_gYy",
        "colab_type": "text"
      },
      "source": [
        "#3)"
      ]
    },
    {
      "cell_type": "code",
      "metadata": {
        "id": "SW6bn-zs-p2A",
        "colab_type": "code",
        "outputId": "a8e5a7ff-9342-4758-d520-1433e1d450ef",
        "colab": {
          "base_uri": "https://localhost:8080/",
          "height": 85
        }
      },
      "source": [
        "a=np.arange(1,10)\n",
        "print(a)\n",
        "a.reshape(3,3)"
      ],
      "execution_count": 0,
      "outputs": [
        {
          "output_type": "stream",
          "text": [
            "[1 2 3 4 5 6 7 8 9]\n"
          ],
          "name": "stdout"
        },
        {
          "output_type": "execute_result",
          "data": {
            "text/plain": [
              "array([[1, 2, 3],\n",
              "       [4, 5, 6],\n",
              "       [7, 8, 9]])"
            ]
          },
          "metadata": {
            "tags": []
          },
          "execution_count": 70
        }
      ]
    },
    {
      "cell_type": "markdown",
      "metadata": {
        "id": "r9t4dPAZ_kra",
        "colab_type": "text"
      },
      "source": [
        "#4)"
      ]
    },
    {
      "cell_type": "code",
      "metadata": {
        "id": "hnWbVO3__lxb",
        "colab_type": "code",
        "outputId": "616858b4-8f01-4a2d-9e50-e5f7e60a2b4d",
        "colab": {
          "base_uri": "https://localhost:8080/",
          "height": 187
        }
      },
      "source": [
        "a=np.random.randint(100, size=(2,2))\n",
        "b=np.random.randint(100, size=(2,2))\n",
        "c=np.stack((a,b))\n",
        "d=np.stack((a,b),axis=1)\n",
        "print(c)\n",
        "print(d)"
      ],
      "execution_count": 0,
      "outputs": [
        {
          "output_type": "stream",
          "text": [
            "[[[19 99]\n",
            "  [11 20]]\n",
            "\n",
            " [[95 82]\n",
            "  [78 29]]]\n",
            "[[[19 99]\n",
            "  [95 82]]\n",
            "\n",
            " [[11 20]\n",
            "  [78 29]]]\n"
          ],
          "name": "stdout"
        }
      ]
    },
    {
      "cell_type": "markdown",
      "metadata": {
        "id": "Xm1cIlGR_uYR",
        "colab_type": "text"
      },
      "source": [
        "#5)"
      ]
    },
    {
      "cell_type": "code",
      "metadata": {
        "id": "kiA6h_UD_vhg",
        "colab_type": "code",
        "outputId": "6053cc42-bdc1-45ae-ca42-8b3a4d5fc40f",
        "colab": {
          "base_uri": "https://localhost:8080/",
          "height": 68
        }
      },
      "source": [
        "a=np.random.randint(1,10,4)\n",
        "b=np.random.randint(1,10,4)\n",
        "print(a)\n",
        "print(b)\n",
        "c=list()\n",
        "for i in a:\n",
        "  for j in b:\n",
        "    if i==j:\n",
        "       c.append(i)\n",
        "print(c)"
      ],
      "execution_count": 0,
      "outputs": [
        {
          "output_type": "stream",
          "text": [
            "[6 5 5 1]\n",
            "[6 7 3 4]\n",
            "[6]\n"
          ],
          "name": "stdout"
        }
      ]
    },
    {
      "cell_type": "markdown",
      "metadata": {
        "id": "CIJ_-iMjA8VO",
        "colab_type": "text"
      },
      "source": [
        "#6)"
      ]
    },
    {
      "cell_type": "code",
      "metadata": {
        "id": "y4Zfws12BO4S",
        "colab_type": "code",
        "outputId": "f41f3c27-61d7-432b-928e-d8de75c2a961",
        "colab": {
          "base_uri": "https://localhost:8080/",
          "height": 170
        }
      },
      "source": [
        "p=np.random.randint(100, size=(5,5))\n",
        "print(p)\n",
        "each_column_max=np.max(p, axis=0)\n",
        "print(\"each_column_max=\",each_column_max)\n",
        "each_column_min=np.min(p, axis=0)\n",
        "print(\"each_column_min=\",each_column_min)\n",
        "\n",
        "each_row_max=np.max(p, axis=1)\n",
        "print(\"each_row_max=\",each_row_max)\n",
        "each_row_min=np.min(p, axis=1)\n",
        "print(\"each_row_min=\",each_row_min)\n"
      ],
      "execution_count": 0,
      "outputs": [
        {
          "output_type": "stream",
          "text": [
            "[[ 2 29 26 62 82]\n",
            " [52 43 64 21 20]\n",
            " [37 45 39 66 41]\n",
            " [15  8 63 73 10]\n",
            " [94 84 80 14 93]]\n",
            "each_column_max= [94 84 80 73 93]\n",
            "each_column_min= [ 2  8 26 14 10]\n",
            "each_row_max= [82 64 66 73 94]\n",
            "each_row_min= [ 2 20 37  8 14]\n"
          ],
          "name": "stdout"
        }
      ]
    },
    {
      "cell_type": "markdown",
      "metadata": {
        "id": "xxB14RK-Cpi9",
        "colab_type": "text"
      },
      "source": [
        "#7)"
      ]
    },
    {
      "cell_type": "code",
      "metadata": {
        "id": "YJ8chFFXCrG7",
        "colab_type": "code",
        "outputId": "7fa3c139-8160-441b-a4bc-47a34c93ba8c",
        "colab": {
          "base_uri": "https://localhost:8080/",
          "height": 170
        }
      },
      "source": [
        "t=np.random.randint(1000, size=100)\n",
        "print(t)\n",
        "print(np.mean(t))\n",
        "print(np.median(t))\n",
        "print(np.std(t))"
      ],
      "execution_count": 0,
      "outputs": [
        {
          "output_type": "stream",
          "text": [
            "[857 731 867 569 158 160 440 277 929 783  40 457  65 344  69 826 131 385\n",
            " 824 976 654  37 212 386 725 670 536 867 206 611 963   0 839 244 718  75\n",
            " 979 368 393 171 521 461 942 393  62 303 286 968 169 561 601 779 276 920\n",
            " 713 489 830 666 231  19 237 938 309 640 682 168 790 277 973  87 865 574\n",
            " 137 258 506 703 659 757 205 598  36 835 554 464 998 567 242 149 396 299\n",
            " 466 975  24 304 593  95 398 904 772 317]\n",
            "494.83\n",
            "477.5\n",
            "298.17424620513424\n"
          ],
          "name": "stdout"
        }
      ]
    },
    {
      "cell_type": "markdown",
      "metadata": {
        "id": "M6O89-ZhFCEJ",
        "colab_type": "text"
      },
      "source": [
        "#8)\n"
      ]
    },
    {
      "cell_type": "code",
      "metadata": {
        "id": "8Lzg_AjpFE4Q",
        "colab_type": "code",
        "outputId": "b943fbe3-45c1-47a6-da03-bb97e2866246",
        "colab": {
          "base_uri": "https://localhost:8080/",
          "height": 119
        }
      },
      "source": [
        "from sklearn.preprocessing import normalize\n",
        "new=np.random.randint(100, size=(5,5))\n",
        "print(new)\n",
        "np.linalg.norm(new)"
      ],
      "execution_count": 0,
      "outputs": [
        {
          "output_type": "stream",
          "text": [
            "[[ 9 47 91 50 74]\n",
            " [19 25 95  0 55]\n",
            " [28 70 72 57 36]\n",
            " [ 1 25 36 62 31]\n",
            " [26 63 58 29 22]]\n"
          ],
          "name": "stdout"
        },
        {
          "output_type": "execute_result",
          "data": {
            "text/plain": [
              "251.11152900653525"
            ]
          },
          "metadata": {
            "tags": []
          },
          "execution_count": 115
        }
      ]
    },
    {
      "cell_type": "markdown",
      "metadata": {
        "id": "I2XXflhkFoXk",
        "colab_type": "text"
      },
      "source": [
        "#9)"
      ]
    },
    {
      "cell_type": "code",
      "metadata": {
        "id": "MqykApaEFpJG",
        "colab_type": "code",
        "outputId": "c8c22ecb-863a-48df-eb06-256a2cfd35a4",
        "colab": {
          "base_uri": "https://localhost:8080/",
          "height": 340
        }
      },
      "source": [
        "a=np.ones((4,4,3))\n",
        "b=np.ones((4,4))\n",
        "c=np.dot(b,a)\n",
        "print(c)\n",
        "\n"
      ],
      "execution_count": 0,
      "outputs": [
        {
          "output_type": "stream",
          "text": [
            "[[[4. 4. 4.]\n",
            "  [4. 4. 4.]\n",
            "  [4. 4. 4.]\n",
            "  [4. 4. 4.]]\n",
            "\n",
            " [[4. 4. 4.]\n",
            "  [4. 4. 4.]\n",
            "  [4. 4. 4.]\n",
            "  [4. 4. 4.]]\n",
            "\n",
            " [[4. 4. 4.]\n",
            "  [4. 4. 4.]\n",
            "  [4. 4. 4.]\n",
            "  [4. 4. 4.]]\n",
            "\n",
            " [[4. 4. 4.]\n",
            "  [4. 4. 4.]\n",
            "  [4. 4. 4.]\n",
            "  [4. 4. 4.]]]\n"
          ],
          "name": "stdout"
        }
      ]
    }
  ]
}